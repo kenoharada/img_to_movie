{
 "cells": [
  {
   "cell_type": "code",
   "execution_count": 1,
   "id": "f355768f-35be-4db2-aed1-8909dc9c0578",
   "metadata": {},
   "outputs": [],
   "source": [
    "# !pip3 install opencv-python wandb pandas"
   ]
  },
  {
   "cell_type": "code",
   "execution_count": 2,
   "id": "d32af1a4-a01b-4176-afdd-01c077f020fa",
   "metadata": {},
   "outputs": [],
   "source": [
    "import wandb\n",
    "api = wandb.Api()\n",
    "entity = \"<wandb_entity_name>\"\n",
    "project = \"<wandb_project_name>\"\n",
    "wandb_run_name = \"<wandb_run_name>\"\n",
    "run_id = wandb_run_name.split('_')[-1]\n",
    "run = api.run(f\"{entity}/{project}/{run_id}\")\n",
    "metrics_dataframe = run.history()"
   ]
  },
  {
   "cell_type": "code",
   "execution_count": 3,
   "id": "9a30418b-bb79-4aab-8cea-16d605c2cbe3",
   "metadata": {},
   "outputs": [],
   "source": [
    "obs_images_path = metrics_dataframe.tail(1)[\"obs_images\"].values[0]['filenames']"
   ]
  },
  {
   "cell_type": "code",
   "execution_count": 4,
   "id": "00ddfeb0-3533-434c-8411-d9a3406cc177",
   "metadata": {},
   "outputs": [],
   "source": [
    "import os\n",
    "import shutil\n",
    "save_dir = f\"{wandb_run_name}/obs_images\"\n",
    "os.makedirs(save_dir, exist_ok=True)\n",
    "for idx, obs_image_path in enumerate(obs_images_path):\n",
    "    file = run.file(obs_image_path)\n",
    "    count = str(idx).zfill(6)\n",
    "    file.download(replace=True)\n",
    "    shutil.move(obs_image_path, f\"{save_dir}/{count}.png\")"
   ]
  },
  {
   "cell_type": "code",
   "execution_count": 5,
   "id": "14ee95be-661c-4a39-a22f-ed3f0e2c44e9",
   "metadata": {},
   "outputs": [],
   "source": [
    "import cv2\n",
    "import glob\n",
    "\n",
    "# https://docs.opencv.org/4.6.0/dd/d9e/classcv_1_1VideoWriter.html#ac3478f6257454209fa99249cc03a5c59\n",
    "# https://softron.zendesk.com/hc/en-us/articles/207695697-List-of-FourCC-codes-for-video-codecs\n",
    "fourcc = cv2.VideoWriter_fourcc('m', 'p', '4', 'v')\n",
    "\n",
    "output_file_name = f\"{wandb_run_name}/run.mp4\"\n",
    "fps = 10\n",
    "image_size = (128, 128)\n",
    "video = cv2.VideoWriter(output_file_name,fourcc, fps, image_size)\n",
    "\n",
    "image_paths = glob.glob(f\"{save_dir}/*.png\")\n",
    "image_paths = sorted(image_paths)\n",
    "\n",
    "for image_path in image_paths:\n",
    "    img = cv2.imread(image_path)\n",
    "    video.write(img)\n",
    "video.release()"
   ]
  },
  {
   "cell_type": "code",
   "execution_count": null,
   "id": "060d58be-075b-4c47-94db-a722762107b2",
   "metadata": {},
   "outputs": [],
   "source": []
  }
 ],
 "metadata": {
  "kernelspec": {
   "display_name": "Python 3 (ipykernel)",
   "language": "python",
   "name": "python3"
  },
  "language_info": {
   "codemirror_mode": {
    "name": "ipython",
    "version": 3
   },
   "file_extension": ".py",
   "mimetype": "text/x-python",
   "name": "python",
   "nbconvert_exporter": "python",
   "pygments_lexer": "ipython3",
   "version": "3.9.5"
  }
 },
 "nbformat": 4,
 "nbformat_minor": 5
}
